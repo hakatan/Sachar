{
  "nbformat": 4,
  "nbformat_minor": 0,
  "metadata": {
    "colab": {
      "name": "Task4.ipynb",
      "version": "0.3.2",
      "provenance": [],
      "collapsed_sections": []
    },
    "kernelspec": {
      "name": "python2",
      "display_name": "Python 2"
    }
  },
  "cells": [
    {
      "cell_type": "code",
      "metadata": {
        "id": "JQspTMFdNEQg",
        "colab_type": "code",
        "colab": {
          "base_uri": "https://localhost:8080/",
          "height": 34
        },
        "outputId": "14f05945-558d-4fc2-9948-b3c373aec386"
      },
      "source": [
        "import numpy as np\n",
        "import pandas as pd\n",
        "import os\n",
        "import tensorflow as T\n",
        "import keras\n",
        "from keras import backend as K\n",
        "from keras import initializers\n",
        "from keras.initializers import RandomNormal\n",
        "from keras.models import Sequential, Model, load_model, save_model\n",
        "from keras.layers.core import Dense, Lambda, Activation\n",
        "from keras.layers import Embedding, Input, Dense, merge, Reshape,  Flatten, Dropout\n",
        "from keras.optimizers import Adagrad, Adam, SGD, RMSprop, Adamax\n",
        "from keras.regularizers import l2\n",
        "from keras.layers import Multiply, Concatenate\n",
        "from keras.callbacks import Callback, EarlyStopping, ModelCheckpoint\n",
        "from time import time\n",
        "import multiprocessing as mp\n",
        "import sys\n",
        "import math\n",
        "import argparse\n",
        "import matplotlib.pyplot as plt\n"
      ],
      "execution_count": 3,
      "outputs": [
        {
          "output_type": "stream",
          "text": [
            "Using TensorFlow backend.\n"
          ],
          "name": "stderr"
        }
      ]
    },
    {
      "cell_type": "code",
      "metadata": {
        "id": "nj3a8Xd9mNXU",
        "colab_type": "code",
        "colab": {}
      },
      "source": [
        "!pip install -U -q PyDrive ## you will have install for every colab session\n",
        "\n",
        "from pydrive.auth import GoogleAuth\n",
        "from pydrive.drive import GoogleDrive\n",
        "from google.colab import auth\n",
        "from oauth2client.client import GoogleCredentials\n",
        "from google.colab import files\n",
        "\n",
        "# 1. Authenticate and create the PyDrive client.\n",
        "auth.authenticate_user()\n",
        "gauth = GoogleAuth()\n",
        "gauth.credentials = GoogleCredentials.get_application_default()\n",
        "drive = GoogleDrive(gauth)"
      ],
      "execution_count": 0,
      "outputs": []
    },
    {
      "cell_type": "code",
      "metadata": {
        "id": "EVhF4SPkmaCs",
        "colab_type": "code",
        "colab": {}
      },
      "source": [
        "RATING_DATA_FILE_TRAIN = 'u1.base'\n",
        "RATING_DATA_FILE_TEST = 'u1.test'\n",
        "RATING_DATA_GEN_FILE = 'u_gen.data'\n",
        "RATINGS_CSV_FILE_NORM = 'u_norm.data'\n",
        "RATINGS_GEN_CSV_FILE = 'u_genr.data'\n",
        "MODEL_WEIGHTS_FILE = 'u_emb_weights.h5'\n",
        "MODEL_WEIGHTS_FILE_CORE = 'u_emb_weights'"
      ],
      "execution_count": 0,
      "outputs": []
    },
    {
      "cell_type": "code",
      "metadata": {
        "id": "Ewaz10iUp9vo",
        "colab_type": "code",
        "colab": {}
      },
      "source": [
        "rating_file_import_train = drive.CreateFile({'id':'1smKszlPQlT03Bbi7yLRIDIkd0c-XS-Y5'})\n",
        "rating_file_import_train.GetContentFile(RATING_DATA_FILE_TRAIN)\n",
        "rating_file_import_test = drive.CreateFile({'id':'1dxlfTQJiQ5MyewGyhk7Y4A9mETdnjknf'})\n",
        "rating_file_import_test.GetContentFile(RATING_DATA_FILE_TEST)"
      ],
      "execution_count": 0,
      "outputs": []
    },
    {
      "cell_type": "code",
      "metadata": {
        "id": "mOdshg9Ss0l8",
        "colab_type": "code",
        "outputId": "bd03ac2c-af59-4a47-9330-69e5157c1bc8",
        "colab": {
          "base_uri": "https://localhost:8080/",
          "height": 34
        }
      },
      "source": [
        "ratings = pd.read_csv(RATING_DATA_FILE_TRAIN, \n",
        "                    sep='\\t', \n",
        "                    engine='python', \n",
        "                    encoding='latin-1',\n",
        "                    names=['userid', 'movieid', 'rating', 'timestamp'])\n",
        "max_userid = ratings['userid'].drop_duplicates().max()\n",
        "max_movieid = ratings['movieid'].drop_duplicates().max()\n",
        "ratings['user_emb_id'] = ratings['userid'] - 1\n",
        "ratings['movie_emb_id'] = ratings['movieid'] - 1\n",
        "print(str(len(ratings))+' ratings loaded')\n"
      ],
      "execution_count": 7,
      "outputs": [
        {
          "output_type": "stream",
          "text": [
            "80000 ratings loaded\n"
          ],
          "name": "stdout"
        }
      ]
    },
    {
      "cell_type": "code",
      "metadata": {
        "id": "w9Hih6Xl4gxR",
        "colab_type": "code",
        "outputId": "73d91cd4-a57c-4e48-80c3-e8a3da6c8567",
        "colab": {
          "base_uri": "https://localhost:8080/",
          "height": 34
        }
      },
      "source": [
        "test_ratings = pd.read_csv(RATING_DATA_FILE_TEST, \n",
        "                    sep='\\t', \n",
        "                    engine='python', \n",
        "                    encoding='latin-1',\n",
        "                    names=['userid', 'movieid', 'rating', 'timestamp'])\n",
        "test_ratings['user_emb_id'] = test_ratings['userid'] - 1\n",
        "test_ratings['movie_emb_id'] = test_ratings['movieid'] - 1\n",
        "print(str(len(test_ratings))+' ratings loaded')"
      ],
      "execution_count": 8,
      "outputs": [
        {
          "output_type": "stream",
          "text": [
            "20000 ratings loaded\n"
          ],
          "name": "stdout"
        }
      ]
    },
    {
      "cell_type": "code",
      "metadata": {
        "id": "_MyhiMt0tCUz",
        "colab_type": "code",
        "colab": {}
      },
      "source": [
        "def get_ncf_model(num_users, num_items, latent_dim,hidden_dim,do):\n",
        "    # Input variables\n",
        "    user_input = Input(shape=(1,), dtype='int32', name = 'user_input')\n",
        "    item_input = Input(shape=(1,), dtype='int32', name = 'item_input')\n",
        "\n",
        "    MF_Embedding_User = Embedding(input_dim = num_users, output_dim = latent_dim, name = 'user_embedding', input_length=1)\n",
        "    MF_Embedding_Item = Embedding(input_dim = num_items, output_dim = latent_dim, name = 'item_embedding', input_length=1)   \n",
        "    \n",
        "    # Crucial to flatten an embedding vector!\n",
        "    user_latent = Flatten()(MF_Embedding_User(user_input))\n",
        "    item_latent = Flatten()(MF_Embedding_Item(item_input))\n",
        "    \n",
        "    # Element-wise product of user and item embeddings\n",
        "    conc = Concatenate()([user_latent, item_latent])\n",
        "    drop = Dropout(0.5)(conc)\n",
        "    hid1 = Dense(hidden_dim, activation='relu')(conc)\n",
        "    drop2  = Dropout(do)(hid1)\n",
        "    prediction = Dense(1, activation='relu', kernel_initializer='lecun_uniform', name = 'prediction')(drop2)\n",
        "    \n",
        "    \n",
        "    model = Model(input=[user_input, item_input], output=prediction)\n",
        "    print(\"ncf model\")\n",
        "    model.summary()\n",
        "\n",
        "    return model"
      ],
      "execution_count": 0,
      "outputs": []
    },
    {
      "cell_type": "code",
      "metadata": {
        "id": "O6STtcDitjQb",
        "colab_type": "code",
        "colab": {}
      },
      "source": [
        "\n",
        "K_LATENT=None\n",
        "hidden_dim=None\n",
        "do=None\n",
        "\n",
        "def set_ncf_model(parameter_hidden_dim, parameter_loss,parameter_optimizer,):\n",
        "  K_LATENT = 20\n",
        "  hidden_dim = parameter_hidden_dim\n",
        "  do = 0.5\n",
        "  NCF_model = get_ncf_model(max_userid,max_movieid,K_LATENT,hidden_dim,do)\n",
        "  NCF_model.compile(loss=parameter_loss,optimizer=parameter_optimizer,metrics=['mae'])\n",
        "  return NCF_model"
      ],
      "execution_count": 0,
      "outputs": []
    },
    {
      "cell_type": "code",
      "metadata": {
        "id": "5tAu7I_Evoql",
        "colab_type": "code",
        "outputId": "ca664169-1408-422f-ce14-2530772ac5f3",
        "colab": {
          "base_uri": "https://localhost:8080/",
          "height": 521
        }
      },
      "source": [
        "\n",
        "NCF_model=set_ncf_model(20,'mse','Adamax')\n",
        "Users = ratings['user_emb_id'].values\n",
        "Movies = ratings['movie_emb_id'].values\n",
        "Ratings = ratings['rating'].values"
      ],
      "execution_count": 24,
      "outputs": [
        {
          "output_type": "stream",
          "text": [
            "ncf model\n",
            "__________________________________________________________________________________________________\n",
            "Layer (type)                    Output Shape         Param #     Connected to                     \n",
            "==================================================================================================\n",
            "user_input (InputLayer)         (None, 1)            0                                            \n",
            "__________________________________________________________________________________________________\n",
            "item_input (InputLayer)         (None, 1)            0                                            \n",
            "__________________________________________________________________________________________________\n",
            "user_embedding (Embedding)      (None, 1, 20)        18860       user_input[0][0]                 \n",
            "__________________________________________________________________________________________________\n",
            "item_embedding (Embedding)      (None, 1, 20)        33640       item_input[0][0]                 \n",
            "__________________________________________________________________________________________________\n",
            "flatten_7 (Flatten)             (None, 20)           0           user_embedding[0][0]             \n",
            "__________________________________________________________________________________________________\n",
            "flatten_8 (Flatten)             (None, 20)           0           item_embedding[0][0]             \n",
            "__________________________________________________________________________________________________\n",
            "concatenate_4 (Concatenate)     (None, 40)           0           flatten_7[0][0]                  \n",
            "                                                                 flatten_8[0][0]                  \n",
            "__________________________________________________________________________________________________\n",
            "dense_4 (Dense)                 (None, 20)           820         concatenate_4[0][0]              \n",
            "__________________________________________________________________________________________________\n",
            "dropout_8 (Dropout)             (None, 20)           0           dense_4[0][0]                    \n",
            "__________________________________________________________________________________________________\n",
            "prediction (Dense)              (None, 1)            21          dropout_8[0][0]                  \n",
            "==================================================================================================\n",
            "Total params: 53,341\n",
            "Trainable params: 53,341\n",
            "Non-trainable params: 0\n",
            "__________________________________________________________________________________________________\n"
          ],
          "name": "stdout"
        },
        {
          "output_type": "stream",
          "text": [
            "/usr/local/lib/python2.7/dist-packages/ipykernel_launcher.py:21: UserWarning: Update your `Model` call to the Keras 2 API: `Model(outputs=Tensor(\"pr..., inputs=[<tf.Tenso...)`\n"
          ],
          "name": "stderr"
        }
      ]
    },
    {
      "cell_type": "code",
      "metadata": {
        "id": "3auwcrmxvXJ2",
        "colab_type": "code",
        "outputId": "b1d580df-b5ba-4e75-f237-9046b546314d",
        "colab": {
          "base_uri": "https://localhost:8080/",
          "height": 490
        }
      },
      "source": [
        "callbacks_ncf = [EarlyStopping('val_loss', patience=10), \n",
        "             ModelCheckpoint(MODEL_WEIGHTS_FILE_CORE+'_ncf_'+str(do)+'_'+str(K_LATENT)+'_'+str(hidden_dim)+'.h5', save_best_only=True)]\n",
        "history_history_ncf = NCF_model.fit([Users, Movies], Ratings, nb_epoch=60, validation_split=.1, verbose=1, callbacks=callbacks_ncf, batch_size = 32)"
      ],
      "execution_count": 27,
      "outputs": [
        {
          "output_type": "stream",
          "text": [
            "Train on 72000 samples, validate on 8000 samples\n",
            "Epoch 1/60\n",
            " 3168/72000 [>.............................] - ETA: 3s - loss: 0.8492 - mean_absolute_error: 0.7294"
          ],
          "name": "stdout"
        },
        {
          "output_type": "stream",
          "text": [
            "/usr/local/lib/python2.7/dist-packages/ipykernel_launcher.py:3: UserWarning: The `nb_epoch` argument in `fit` has been renamed `epochs`.\n",
            "  This is separate from the ipykernel package so we can avoid doing imports until\n"
          ],
          "name": "stderr"
        },
        {
          "output_type": "stream",
          "text": [
            "72000/72000 [==============================] - 3s 47us/step - loss: 0.8341 - mean_absolute_error: 0.7228 - val_loss: 1.0568 - val_mean_absolute_error: 0.8587\n",
            "Epoch 2/60\n",
            "72000/72000 [==============================] - 3s 44us/step - loss: 0.8294 - mean_absolute_error: 0.7199 - val_loss: 1.0480 - val_mean_absolute_error: 0.8522\n",
            "Epoch 3/60\n",
            "72000/72000 [==============================] - 3s 44us/step - loss: 0.8343 - mean_absolute_error: 0.7224 - val_loss: 1.0513 - val_mean_absolute_error: 0.8545\n",
            "Epoch 4/60\n",
            "72000/72000 [==============================] - 3s 44us/step - loss: 0.8315 - mean_absolute_error: 0.7210 - val_loss: 1.0547 - val_mean_absolute_error: 0.8565\n",
            "Epoch 5/60\n",
            "72000/72000 [==============================] - 3s 44us/step - loss: 0.8330 - mean_absolute_error: 0.7220 - val_loss: 1.0729 - val_mean_absolute_error: 0.8667\n",
            "Epoch 6/60\n",
            "72000/72000 [==============================] - 3s 44us/step - loss: 0.8297 - mean_absolute_error: 0.7204 - val_loss: 1.0564 - val_mean_absolute_error: 0.8575\n",
            "Epoch 7/60\n",
            "72000/72000 [==============================] - 3s 44us/step - loss: 0.8302 - mean_absolute_error: 0.7200 - val_loss: 1.0607 - val_mean_absolute_error: 0.8597\n",
            "Epoch 8/60\n",
            "72000/72000 [==============================] - 3s 46us/step - loss: 0.8308 - mean_absolute_error: 0.7201 - val_loss: 1.0593 - val_mean_absolute_error: 0.8603\n",
            "Epoch 9/60\n",
            "72000/72000 [==============================] - 3s 44us/step - loss: 0.8282 - mean_absolute_error: 0.7197 - val_loss: 1.0578 - val_mean_absolute_error: 0.8588\n",
            "Epoch 10/60\n",
            "72000/72000 [==============================] - 3s 44us/step - loss: 0.8268 - mean_absolute_error: 0.7180 - val_loss: 1.0712 - val_mean_absolute_error: 0.8656\n",
            "Epoch 11/60\n",
            "72000/72000 [==============================] - 3s 44us/step - loss: 0.8264 - mean_absolute_error: 0.7184 - val_loss: 1.0685 - val_mean_absolute_error: 0.8644\n",
            "Epoch 12/60\n",
            "72000/72000 [==============================] - 3s 44us/step - loss: 0.8254 - mean_absolute_error: 0.7182 - val_loss: 1.0722 - val_mean_absolute_error: 0.8671\n"
          ],
          "name": "stdout"
        }
      ]
    },
    {
      "cell_type": "code",
      "metadata": {
        "id": "Cq3LaZlbzPUQ",
        "colab_type": "code",
        "colab": {
          "base_uri": "https://localhost:8080/",
          "height": 1092
        },
        "outputId": "7ccd6c0c-4a07-459a-a736-c50840216771"
      },
      "source": [
        "\n",
        "test_Users = test_ratings['user_emb_id'].values\n",
        "test_Movies = test_ratings['movie_emb_id'].values\n",
        "test_Ratings = test_ratings['rating'].values\n",
        "predict=NCF_model.predict([test_Users,test_Movies])\n",
        "df_predict=pd.DataFrame(data=predict,columns=['prediction'])\n",
        "df_predict['ratings'] = test_Ratings\n",
        "df_predict['diff']=abs(df_predict['ratings']-df_predict['prediction'])\n",
        "\n",
        "print(df_predict)"
      ],
      "execution_count": 38,
      "outputs": [
        {
          "output_type": "stream",
          "text": [
            "       prediction  ratings      diff\n",
            "0        3.779286        5  1.220714\n",
            "1        4.035730        3  1.035730\n",
            "2        4.533484        5  0.466516\n",
            "3        4.060013        5  0.939987\n",
            "4        3.229557        3  0.229557\n",
            "5        3.900399        4  0.099601\n",
            "6        4.291782        4  0.291782\n",
            "7        3.475376        3  0.475376\n",
            "8        3.112710        2  1.112710\n",
            "9        3.757715        3  0.757715\n",
            "10       3.478665        4  0.521335\n",
            "11       2.020246        2  0.020246\n",
            "12       3.155388        4  0.844612\n",
            "13       3.393221        5  1.606779\n",
            "14       3.926667        4  0.073333\n",
            "15       3.265915        3  0.265915\n",
            "16       3.581975        4  0.418025\n",
            "17       3.019182        3  0.019182\n",
            "18       3.248034        3  0.248034\n",
            "19       4.297423        4  0.297423\n",
            "20       4.239299        5  0.760701\n",
            "21       4.008194        4  0.008194\n",
            "22       3.137779        3  0.137779\n",
            "23       4.654284        5  0.345716\n",
            "24       3.836649        4  0.163351\n",
            "25       2.838459        3  0.161541\n",
            "26       4.094046        3  1.094046\n",
            "27       3.962919        3  0.962919\n",
            "28       3.181743        4  0.818257\n",
            "29       3.389966        3  0.389966\n",
            "...           ...      ...       ...\n",
            "19970    3.028116        3  0.028116\n",
            "19971    3.304070        3  0.304070\n",
            "19972    3.283882        4  0.716118\n",
            "19973    3.307537        2  1.307537\n",
            "19974    3.268283        2  1.268283\n",
            "19975    3.240039        4  0.759961\n",
            "19976    2.855764        2  0.855764\n",
            "19977    3.821561        5  1.178439\n",
            "19978    3.537778        3  0.537778\n",
            "19979    3.617374        4  0.382626\n",
            "19980    3.341492        3  0.341492\n",
            "19981    3.295630        3  0.295630\n",
            "19982    3.574856        3  0.574856\n",
            "19983    3.219044        1  2.219044\n",
            "19984    3.361215        3  0.361215\n",
            "19985    3.351766        4  0.648234\n",
            "19986    4.512761        4  0.512761\n",
            "19987    4.754076        5  0.245924\n",
            "19988    4.016079        4  0.016079\n",
            "19989    4.479867        4  0.479867\n",
            "19990    4.017541        4  0.017541\n",
            "19991    3.654469        4  0.345531\n",
            "19992    4.079612        4  0.079612\n",
            "19993    3.080804        3  0.080804\n",
            "19994    3.951170        4  0.048830\n",
            "19995    4.016325        4  0.016325\n",
            "19996    3.853864        4  0.146136\n",
            "19997    3.272053        3  0.272053\n",
            "19998    3.516683        3  0.516683\n",
            "19999    3.424486        5  1.575514\n",
            "\n",
            "[20000 rows x 3 columns]\n"
          ],
          "name": "stdout"
        }
      ]
    },
    {
      "cell_type": "markdown",
      "metadata": {
        "id": "UO6lNf3cGNqP",
        "colab_type": "text"
      },
      "source": [
        "according to the first "
      ]
    },
    {
      "cell_type": "code",
      "metadata": {
        "id": "Ovs5Hn-ZEqV-",
        "colab_type": "code",
        "outputId": "40636338-802a-4da0-ed8b-e98718110221",
        "colab": {
          "base_uri": "https://localhost:8080/",
          "height": 1646
        }
      },
      "source": [
        "print('main method - '+str(sum(df_predict['diff'])/len(df_predict['diff'])))\n",
        "NCF_model=set_ncf_model(16,'mse','Adamax')\n",
        "callbacks_ncf = [EarlyStopping('val_loss', patience=10), \n",
        "             ModelCheckpoint(MODEL_WEIGHTS_FILE_CORE+'_ncf_'+str(do)+'_'+str(K_LATENT)+'_'+str(hidden_dim)+'.h5', save_best_only=True)]\n",
        "history_history_ncf = NCF_model.fit([Users, Movies], Ratings, nb_epoch=60, validation_split=.1, verbose=0, callbacks=callbacks_ncf, batch_size = 32)\n",
        "predict=NCF_model.predict([test_Users,test_Movies])\n",
        "df_predict=pd.DataFrame(data=predict,columns=['prediction'])\n",
        "df_predict['ratings'] = test_Ratings\n",
        "df_predict['diff']=abs(df_predict['ratings']-df_predict['prediction'])\n",
        "print('second method hidden layer size=16 - '+str(sum(df_predict['diff'])/len(df_predict['diff'])))\n",
        "NCF_model=set_ncf_model(20,'mse','sgd')\n",
        "callbacks_ncf = [EarlyStopping('val_loss', patience=10), \n",
        "             ModelCheckpoint(MODEL_WEIGHTS_FILE_CORE+'_ncf_'+str(do)+'_'+str(K_LATENT)+'_'+str(hidden_dim)+'.h5', save_best_only=True)]\n",
        "history_history_ncf = NCF_model.fit([Users, Movies], Ratings, nb_epoch=60, validation_split=.1, verbose=0, callbacks=callbacks_ncf, batch_size = 32)\n",
        "predict=NCF_model.predict([test_Users,test_Movies])\n",
        "df_predict=pd.DataFrame(data=predict,columns=['prediction'])\n",
        "df_predict['ratings'] = test_Ratings\n",
        "df_predict['diff']=abs(df_predict['ratings']-df_predict['prediction'])\n",
        "print('third method optimizer=SGD - '+str(sum(df_predict['diff'])/len(df_predict['diff'])))\n",
        "NCF_model=set_ncf_model(20,'mape','Adamax')\n",
        "callbacks_ncf = [EarlyStopping('val_loss', patience=10), \n",
        "             ModelCheckpoint(MODEL_WEIGHTS_FILE_CORE+'_ncf_'+str(do)+'_'+str(K_LATENT)+'_'+str(hidden_dim)+'.h5', save_best_only=True)]\n",
        "history_history_ncf = NCF_model.fit([Users, Movies], Ratings, nb_epoch=60, validation_split=.1, verbose=0, callbacks=callbacks_ncf, batch_size = 32)\n",
        "predict=NCF_model.predict([test_Users,test_Movies])\n",
        "df_predict=pd.DataFrame(data=predict,columns=['prediction'])\n",
        "df_predict['ratings'] = test_Ratings\n",
        "df_predict['diff']=abs(df_predict['ratings']-df_predict['prediction'])\n",
        "print('fourth method loss function=mean absolute precentage error - '+str(sum(df_predict['diff'])/len(df_predict['diff'])))"
      ],
      "execution_count": 40,
      "outputs": [
        {
          "output_type": "stream",
          "text": [
            "main method - 0.823009756035\n",
            "ncf model\n",
            "__________________________________________________________________________________________________\n",
            "Layer (type)                    Output Shape         Param #     Connected to                     \n",
            "==================================================================================================\n",
            "user_input (InputLayer)         (None, 1)            0                                            \n",
            "__________________________________________________________________________________________________\n",
            "item_input (InputLayer)         (None, 1)            0                                            \n",
            "__________________________________________________________________________________________________\n",
            "user_embedding (Embedding)      (None, 1, 20)        18860       user_input[0][0]                 \n",
            "__________________________________________________________________________________________________\n",
            "item_embedding (Embedding)      (None, 1, 20)        33640       item_input[0][0]                 \n",
            "__________________________________________________________________________________________________\n",
            "flatten_37 (Flatten)            (None, 20)           0           user_embedding[0][0]             \n",
            "__________________________________________________________________________________________________\n",
            "flatten_38 (Flatten)            (None, 20)           0           item_embedding[0][0]             \n",
            "__________________________________________________________________________________________________\n",
            "concatenate_19 (Concatenate)    (None, 40)           0           flatten_37[0][0]                 \n",
            "                                                                 flatten_38[0][0]                 \n",
            "__________________________________________________________________________________________________\n",
            "dense_19 (Dense)                (None, 16)           656         concatenate_19[0][0]             \n",
            "__________________________________________________________________________________________________\n",
            "dropout_38 (Dropout)            (None, 16)           0           dense_19[0][0]                   \n",
            "__________________________________________________________________________________________________\n",
            "prediction (Dense)              (None, 1)            17          dropout_38[0][0]                 \n",
            "==================================================================================================\n",
            "Total params: 53,173\n",
            "Trainable params: 53,173\n",
            "Non-trainable params: 0\n",
            "__________________________________________________________________________________________________\n"
          ],
          "name": "stdout"
        },
        {
          "output_type": "stream",
          "text": [
            "/usr/local/lib/python2.7/dist-packages/ipykernel_launcher.py:21: UserWarning: Update your `Model` call to the Keras 2 API: `Model(outputs=Tensor(\"pr..., inputs=[<tf.Tenso...)`\n",
            "/usr/local/lib/python2.7/dist-packages/ipykernel_launcher.py:5: UserWarning: The `nb_epoch` argument in `fit` has been renamed `epochs`.\n",
            "  \"\"\"\n"
          ],
          "name": "stderr"
        },
        {
          "output_type": "stream",
          "text": [
            "second method hidden layer size=16 - 0.746050732756\n",
            "ncf model\n",
            "__________________________________________________________________________________________________\n",
            "Layer (type)                    Output Shape         Param #     Connected to                     \n",
            "==================================================================================================\n",
            "user_input (InputLayer)         (None, 1)            0                                            \n",
            "__________________________________________________________________________________________________\n",
            "item_input (InputLayer)         (None, 1)            0                                            \n",
            "__________________________________________________________________________________________________\n",
            "user_embedding (Embedding)      (None, 1, 20)        18860       user_input[0][0]                 \n",
            "__________________________________________________________________________________________________\n",
            "item_embedding (Embedding)      (None, 1, 20)        33640       item_input[0][0]                 \n",
            "__________________________________________________________________________________________________\n",
            "flatten_39 (Flatten)            (None, 20)           0           user_embedding[0][0]             \n",
            "__________________________________________________________________________________________________\n",
            "flatten_40 (Flatten)            (None, 20)           0           item_embedding[0][0]             \n",
            "__________________________________________________________________________________________________\n",
            "concatenate_20 (Concatenate)    (None, 40)           0           flatten_39[0][0]                 \n",
            "                                                                 flatten_40[0][0]                 \n",
            "__________________________________________________________________________________________________\n",
            "dense_20 (Dense)                (None, 20)           820         concatenate_20[0][0]             \n",
            "__________________________________________________________________________________________________\n",
            "dropout_40 (Dropout)            (None, 20)           0           dense_20[0][0]                   \n",
            "__________________________________________________________________________________________________\n",
            "prediction (Dense)              (None, 1)            21          dropout_40[0][0]                 \n",
            "==================================================================================================\n",
            "Total params: 53,341\n",
            "Trainable params: 53,341\n",
            "Non-trainable params: 0\n",
            "__________________________________________________________________________________________________\n"
          ],
          "name": "stdout"
        },
        {
          "output_type": "stream",
          "text": [
            "/usr/local/lib/python2.7/dist-packages/ipykernel_launcher.py:14: UserWarning: The `nb_epoch` argument in `fit` has been renamed `epochs`.\n",
            "  \n"
          ],
          "name": "stderr"
        },
        {
          "output_type": "stream",
          "text": [
            "third method optimizer=SGD - 0.74714355818\n",
            "ncf model\n",
            "__________________________________________________________________________________________________\n",
            "Layer (type)                    Output Shape         Param #     Connected to                     \n",
            "==================================================================================================\n",
            "user_input (InputLayer)         (None, 1)            0                                            \n",
            "__________________________________________________________________________________________________\n",
            "item_input (InputLayer)         (None, 1)            0                                            \n",
            "__________________________________________________________________________________________________\n",
            "user_embedding (Embedding)      (None, 1, 20)        18860       user_input[0][0]                 \n",
            "__________________________________________________________________________________________________\n",
            "item_embedding (Embedding)      (None, 1, 20)        33640       item_input[0][0]                 \n",
            "__________________________________________________________________________________________________\n",
            "flatten_41 (Flatten)            (None, 20)           0           user_embedding[0][0]             \n",
            "__________________________________________________________________________________________________\n",
            "flatten_42 (Flatten)            (None, 20)           0           item_embedding[0][0]             \n",
            "__________________________________________________________________________________________________\n",
            "concatenate_21 (Concatenate)    (None, 40)           0           flatten_41[0][0]                 \n",
            "                                                                 flatten_42[0][0]                 \n",
            "__________________________________________________________________________________________________\n",
            "dense_21 (Dense)                (None, 20)           820         concatenate_21[0][0]             \n",
            "__________________________________________________________________________________________________\n",
            "dropout_42 (Dropout)            (None, 20)           0           dense_21[0][0]                   \n",
            "__________________________________________________________________________________________________\n",
            "prediction (Dense)              (None, 1)            21          dropout_42[0][0]                 \n",
            "==================================================================================================\n",
            "Total params: 53,341\n",
            "Trainable params: 53,341\n",
            "Non-trainable params: 0\n",
            "__________________________________________________________________________________________________\n"
          ],
          "name": "stdout"
        },
        {
          "output_type": "stream",
          "text": [
            "/usr/local/lib/python2.7/dist-packages/ipykernel_launcher.py:23: UserWarning: The `nb_epoch` argument in `fit` has been renamed `epochs`.\n"
          ],
          "name": "stderr"
        },
        {
          "output_type": "stream",
          "text": [
            "fourth method loss function=mean absolute precentage error - 0.808057893771\n"
          ],
          "name": "stdout"
        }
      ]
    },
    {
      "cell_type": "markdown",
      "metadata": {
        "id": "ouVF8_1LOkaP",
        "colab_type": "text"
      },
      "source": [
        "The first method had shown the best results in based on the same parameters as the other method except the optimizer,loss function and the hidden dimentions.\n",
        "From our research in the web we have concluded that the adamax optimizer is considered to be the best optimizer for this spessific problem. In addition the mse loss function has the closest aproximation to the real error value.As for the number of nodes in the hidden layer there isn't a good explanation for this spesific number, but through trial and error we deducted that 20 nodes show a decent result.\n"
      ]
    }
  ]
}